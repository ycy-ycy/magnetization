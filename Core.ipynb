{
 "cells": [
  {
   "cell_type": "code",
   "execution_count": 1,
   "metadata": {},
   "outputs": [],
   "source": [
    "# package importing\n",
    "\n",
    "import cupy as cp\n",
    "import numpy as np\n",
    "import os\n",
    "from time import time\n",
    "import matplotlib.pyplot as plt\n",
    "import tkinter as tk\n",
    "from tkinter import filedialog\n",
    "from numba import jit, prange\n",
    "\n",
    "# for getContour function \n",
    "import cv2"
   ]
  },
  {
   "cell_type": "markdown",
   "metadata": {},
   "source": [
    "## Scaling Parameters"
   ]
  },
  {
   "cell_type": "code",
   "execution_count": 2,
   "metadata": {},
   "outputs": [],
   "source": [
    "width, height, distance, xShift, yShift = np.float64(280), np.float64(175), np.float64(12), np.float64(0), np.float64(0)\n",
    "\n",
    "def setScale(*args):\n",
    "    # physical size in um: width, height, distance (positive if sample at +z)\n",
    "    global width, height, distance, xShift, yShift\n",
    "\n",
    "    if len(args)==3:\n",
    "        width, height, distance = np.float64(args[0]), np.float64(args[1]), np.float64(args[2])\n",
    "    elif len(args)==5:\n",
    "        width, height, distance, xShift, yShift = np.float64(args[0]), np.float64(args[1]), np.float64(args[2]), np.float64(args[3]), np.float64(args[4])\n",
    "    else:\n",
    "        width = np.float64(input('physical size: width:\\t'))\n",
    "        height = np.float64(input('physical size: height:\\t'))\n",
    "        distance = np.float64(input('physical size: distance:\\t'))\n",
    "        xShift = np.float64(input('physical size: xShift:\\t'))\n",
    "        yShift = np.float64(input('physical size: yShift:\\t'))\n",
    "    \n",
    "    return None"
   ]
  },
  {
   "cell_type": "code",
   "execution_count": 3,
   "metadata": {},
   "outputs": [],
   "source": [
    "setScale(280,175,12.,0.,0.)"
   ]
  },
  {
   "cell_type": "markdown",
   "metadata": {},
   "source": [
    "## Loading B Field Data"
   ]
  },
  {
   "cell_type": "code",
   "execution_count": 4,
   "metadata": {},
   "outputs": [],
   "source": [
    "bExp = cp.zeros(shape=(1,1,1),dtype=cp.float64)\n",
    "bPixelX, bPixelY = 1,1\n",
    "\n",
    "def loadB():\n",
    "    # loading magnetic field data (in .npy format)\n",
    "    global bExp, bPixelX, bPixelY\n",
    "\n",
    "    root = tk.Tk()\n",
    "    root.attributes('-topmost', True)\n",
    "    root.withdraw()\n",
    "    bX = np.load(filedialog.askopenfilename(title=\"Select Bx Data (in .npy format)\"))\n",
    "    bPixelX, bPixelY = bX.shape\n",
    "\n",
    "    root = tk.Tk()\n",
    "    root.attributes('-topmost', True)\n",
    "    root.withdraw()\n",
    "    bY = np.load(filedialog.askopenfilename(title=\"Select By Data (in .npy format)\"))\n",
    "\n",
    "    root = tk.Tk()\n",
    "    root.attributes('-topmost', True)\n",
    "    root.withdraw()\n",
    "    bZ = np.load(filedialog.askopenfilename(title=\"Select Bz Data (in .npy format)\"))\n",
    "\n",
    "    bExp = cp.asarray(np.concatenate((bX[:,:,np.newaxis],bY[:,:,np.newaxis],bZ[:,:,np.newaxis]),axis=2))\n",
    "\n",
    "    return None"
   ]
  },
  {
   "cell_type": "code",
   "execution_count": 5,
   "metadata": {},
   "outputs": [],
   "source": [
    "loadB()"
   ]
  },
  {
   "cell_type": "markdown",
   "metadata": {},
   "source": [
    "## Selecting B Region of Interest"
   ]
  },
  {
   "cell_type": "code",
   "execution_count": 6,
   "metadata": {},
   "outputs": [],
   "source": [
    "def bShow(bMap):\n",
    "\n",
    "    plt.cla()\n",
    "\n",
    "    fig, axs = plt.subplots(1, 3, figsize=(15, 5))\n",
    "    \n",
    "    bRMSFull = np.sqrt(cp.sum(bMap**2)/bPixelX/bPixelY/3)\n",
    "    HB = min(2*bRMSFull, cp.max(bMap))\n",
    "    LB = max(-2*bRMSFull,cp.min(bMap))\n",
    "    if (HB>0 and LB<0):\n",
    "        VM = max(HB,-LB)\n",
    "        HB = VM\n",
    "        LB = -VM\n",
    "    imx = axs[0].imshow(cp.asnumpy(cp.transpose(bMap[:,::-1,0])), cmap='bwr',vmin=LB,vmax=HB)\n",
    "    axs[0].set_title('Bx')\n",
    "    imy = axs[1].imshow(cp.asnumpy(cp.transpose(bMap[:,::-1,1])), cmap='bwr',vmin=LB,vmax=HB)\n",
    "    axs[1].set_title('By')\n",
    "    imz = axs[2].imshow(cp.asnumpy(cp.transpose(bMap[:,::-1,2])), cmap='bwr',vmin=LB,vmax=HB)\n",
    "    axs[2].set_title('Bz')\n",
    "\n",
    "    def makeXTicks(N):\n",
    "        Pw = int(np.log10(N))\n",
    "        firstOne = int(str(N)[0])\n",
    "        firstTwo = int(str(N)[:2])\n",
    "        if firstOne >= 5:\n",
    "            ticks = [i*10**Pw for i in range(firstOne+1)]\n",
    "        elif firstTwo <= 20:\n",
    "            ticks = [i*10**(Pw-1) for i in range(0,firstTwo+1,2)]\n",
    "        else:\n",
    "            ticks = [i*10**(Pw-1) for i in range(0,firstTwo+1,5)]\n",
    "        return ticks, [str(i) for i in ticks]\n",
    "    \n",
    "    def makeYTicks(N):\n",
    "        Pw = int(np.log10(N))\n",
    "        firstOne = int(str(N)[0])\n",
    "        firstTwo = int(str(N)[:2])\n",
    "        if firstOne >= 5:\n",
    "            ticks = [i*10**Pw for i in range(firstOne+1)]\n",
    "        elif firstTwo <= 20:\n",
    "            ticks = [i*10**(Pw-1) for i in range(0,firstTwo+1,2)]\n",
    "        else:\n",
    "            ticks = [i*10**(Pw-1) for i in range(0,firstTwo+1,5)]\n",
    "        return [N-1-i for i in ticks], [str(i) for i in ticks]\n",
    "        \n",
    "    xTicks, xTickLabels = makeXTicks(bPixelX)\n",
    "    yTicks, yTickLabels = makeYTicks(bPixelY)\n",
    "\n",
    "    for i in range(3):\n",
    "        axs[i].set_xticks(xTicks)\n",
    "        axs[i].set_yticks(yTicks)\n",
    "        axs[i].set_xticklabels(xTickLabels)\n",
    "        axs[i].set_yticklabels(yTickLabels)\n",
    "        axs[i].set_xlabel('X')\n",
    "        axs[i].set_ylabel('Y')\n",
    "\n",
    "    return None"
   ]
  },
  {
   "cell_type": "code",
   "execution_count": 7,
   "metadata": {},
   "outputs": [],
   "source": [
    "bStartX, bStartY, bEndX, bEndY, bCropX, bCropY = 0,0,bPixelX,bPixelY,bPixelX,bPixelY\n",
    "bRMS = np.sqrt(cp.sum(bExp**2)/bPixelX/bPixelY/3)\n",
    "bCropped = cp.copy(bExp)\n",
    "\n",
    "def bCropping(ifBalanced=False):\n",
    "    # selecting region of interest\n",
    "    global bStartX, bStartY, bEndX, bEndY, bCropX, bCropY, bRMS, bCropped\n",
    "\n",
    "    bShow(bExp)\n",
    "    plt.savefig('bShow.png', format='png')\n",
    "\n",
    "    root = tk.Tk()\n",
    "    root.attributes('-topmost', True)\n",
    "    root.title(\"Selecting B Region\")\n",
    "\n",
    "    canvas = tk.Canvas(root)\n",
    "    image = tk.PhotoImage(master=canvas, file='bShow.png')\n",
    "    image_label = tk.Label(root, image=image)\n",
    "    image_label.image = image\n",
    "    image_label.pack()\n",
    "\n",
    "    label_start_x = tk.Label(root, text=\"StartX=\")\n",
    "    label_start_x.pack()\n",
    "\n",
    "    entry_start_x = tk.Entry(root)\n",
    "    entry_start_x.pack()\n",
    "\n",
    "    label_start_y = tk.Label(root, text=\"StartY=\")\n",
    "    label_start_y.pack()\n",
    "\n",
    "    entry_start_y = tk.Entry(root)\n",
    "    entry_start_y.pack()\n",
    "\n",
    "    label_end_x = tk.Label(root, text=\"EndX=\")\n",
    "    label_end_x.pack()\n",
    "\n",
    "    entry_end_x = tk.Entry(root)\n",
    "    entry_end_x.pack()\n",
    "\n",
    "    label_end_y = tk.Label(root, text=\"EndY=\")\n",
    "    label_end_y.pack()\n",
    "\n",
    "    entry_end_y = tk.Entry(root)\n",
    "    entry_end_y.pack()\n",
    "\n",
    "    def on_enter_button_clicked():\n",
    "        # Get values from entry widgets, remain unchanged if empty\n",
    "        global bStartX, bStartY, bEndX, bEndY, bCropX, bCropY, bRMS, bCropped\n",
    "        bStartX = int(entry_start_x.get()) if entry_start_x.get() != '' else bStartX\n",
    "        bStartY = int(entry_start_y.get()) if entry_start_y.get() != '' else bStartY\n",
    "        bEndX = int(entry_end_x.get()) if entry_end_x.get() != '' else bEndX\n",
    "        bEndY = int(entry_end_y.get()) if entry_end_y.get() != '' else bEndY\n",
    "        bCropX = bEndX - bStartX\n",
    "        bCropY = bEndY - bStartY\n",
    "        bCropped = bExp[bStartX:bEndX,bStartY:bEndY,:]\n",
    "        if ifBalanced:\n",
    "            bAVG = cp.sum(bCropped) / bCropX / bCropY\n",
    "            bCropped -= bAVG\n",
    "        bRMS = np.sqrt(cp.sum(bCropped**2)/bCropX/bCropY/3)\n",
    "        \n",
    "        root.destroy()\n",
    "        root.quit()\n",
    "\n",
    "        print(f\"StartX={bStartX}, StartY={bStartY}, EndX={bEndX}, EndY={bEndY}\")\n",
    "        return None\n",
    "    \n",
    "    def on_cancel_button_clicked():\n",
    "        root.destroy()\n",
    "        root.quit()\n",
    "        return None\n",
    "    \n",
    "    root.protocol(\"WM_DELETE_WINDOW\", on_cancel_button_clicked)\n",
    "\n",
    "    button_enter = tk.Button(root, text=\"Enter\", command=on_enter_button_clicked)\n",
    "    button_enter.pack()\n",
    "    button_cancel = tk.Button(root, text=\"Cancel\", command=on_cancel_button_clicked)\n",
    "    button_cancel.pack()\n",
    "\n",
    "    root.mainloop()\n",
    "\n",
    "    os.remove('bShow.png')\n",
    "    \n",
    "    return None"
   ]
  },
  {
   "cell_type": "code",
   "execution_count": 8,
   "metadata": {},
   "outputs": [
    {
     "data": {
      "image/png": "[encoded data removed]",
      "text/plain": [
       "<Figure size 640x480 with 1 Axes>"
      ]
     },
     "metadata": {},
     "output_type": "display_data"
    },
    {
     "data": {
      "image/png": "[encoded data removed]",
      "text/plain": [
       "<Figure size 1500x500 with 3 Axes>"
      ]
     },
     "metadata": {},
     "output_type": "display_data"
    }
   ],
   "source": [
    "bCropping()"
   ]
  },
  {
   "cell_type": "markdown",
   "metadata": {},
   "source": [
    "## Selecting Magnetization Region"
   ]
  },
  {
   "cell_type": "code",
   "execution_count": 9,
   "metadata": {},
   "outputs": [],
   "source": [
    "mPixelX, mPixelY, NofP, listX, listY, mRes = 1,1,1,np.array([0]),np.array([0]),cp.zeros(shape=(1,3),dtype=cp.float64)\n",
    "mAVG = 1\n",
    "\n",
    "def spinAllocate(magFactor=1):\n",
    "    global mPixelX, mPixelY, NofP, listX, listY, mRes, mAVG\n",
    "\n",
    "    root = tk.Tk()\n",
    "    image_path = filedialog.askopenfilename(title=\"Select camera image\")\n",
    "    root.withdraw()\n",
    "    img_ = cv2.imread(image_path)  # The image should be larger than img_w * img_h\n",
    "    mPixelY, mPixelX = img_.shape[0:2] # Original image height and width\n",
    "    cv2.destroyAllWindows()\n",
    "    \n",
    "    def main():\n",
    "        global all_polygons, current_polygon, img, img_copy\n",
    "        all_polygons = []\n",
    "        current_polygon = []\n",
    "        def draw_polygons(event, x, y, flags, param):\n",
    "            global all_polygons, current_polygon, img, img_copy\n",
    "            if event == cv2.EVENT_LBUTTONDOWN:  \n",
    "                current_polygon.append((x, y))\n",
    "                cv2.circle(img, (x, y), 2, (0, 255, 0), -1)\n",
    "                if len(current_polygon) > 1:\n",
    "                    cv2.line(img, current_polygon[-2], current_polygon[-1], (255, 0, 0), 2)\n",
    "                cv2.imshow('image', img)\n",
    "            elif event == cv2.EVENT_RBUTTONDOWN:  \n",
    "                if len(current_polygon) > 2:\n",
    "                    cv2.line(img, current_polygon[-1], current_polygon[0], (255, 0, 0), 2)\n",
    "                    all_polygons.append(current_polygon.copy())\n",
    "                    current_polygon = []\n",
    "                    img = img_copy.copy()\n",
    "                    for polygon in all_polygons:\n",
    "                        for i in range(len(polygon)):\n",
    "                            cv2.circle(img, polygon[i], 2, (0, 255, 0), -1)\n",
    "                            cv2.line(img, polygon[i], polygon[(i + 1) % len(polygon)], (255, 0, 0), 2)\n",
    "                    cv2.imshow('image', img)\n",
    "            return None\n",
    "        def get_polygon_mask(img_shape, polygons):\n",
    "            mask = np.zeros(img_shape[:2], dtype=np.uint8)\n",
    "            for vertices in polygons:\n",
    "                vertices = np.array([vertices], dtype=np.int32)\n",
    "                cv2.fillPoly(mask, vertices, 1)\n",
    "            return mask\n",
    "        def get_pixels_within_polygons(img, polygons):\n",
    "            mask = get_polygon_mask(img.shape, polygons)\n",
    "            points = np.column_stack(np.where(mask == 1))\n",
    "            return points\n",
    "        \n",
    "        img = cv2.imread(image_path)\n",
    "        if img is None:\n",
    "            print(f'Failed to load image: {image_path}')\n",
    "            return\n",
    "        \n",
    "        img_copy = img.copy()\n",
    "        cv2.namedWindow('image')\n",
    "        cv2.setMouseCallback('image', draw_polygons)\n",
    "        cv2.imshow('image', img)\n",
    "\n",
    "        while True:\n",
    "            key = cv2.waitKey(1) & 0xFF\n",
    "            if key == ord('q'):\n",
    "                break\n",
    "\n",
    "        cv2.destroyAllWindows()\n",
    "        if all_polygons:\n",
    "            return get_pixels_within_polygons(img, all_polygons)\n",
    "\n",
    "    selected = main()\n",
    "    listX, listY = [],[]\n",
    "    selected_N = list(set((round((y+0.5)*magFactor-0.5),round((mPixelY-1-x+0.5)*magFactor-0.5)) for x,y in selected))\n",
    "    mPixelX, mPixelY = int(magFactor*mPixelX), int(magFactor*mPixelY)\n",
    "    NofP = len(selected_N)\n",
    "    for i in range(NofP):\n",
    "        listX.append(selected_N[i][0])\n",
    "        listY.append(selected_N[i][1])\n",
    "    listX, listY = np.array(listX), np.array(listY)\n",
    "    mRes = cp.zeros(shape=(NofP,3),dtype=cp.float64)\n",
    "    mAVG = bRMS * distance**3 *np.sqrt(bPixelX*bPixelY/mPixelX/mPixelY)\n",
    "\n",
    "    return None\n",
    "\n",
    "def spinRegionLoad():\n",
    "    global mPixelX, mPixelY, NofP, listX, listY, mRes, mAVG\n",
    "\n",
    "    root = tk.Tk()\n",
    "    root.attributes('-topmost', True)\n",
    "    root.withdraw()\n",
    "    image_path = filedialog.askopenfilename(title=\"Select weight matrix\")\n",
    "    root.destroy()\n",
    "\n",
    "    weight = np.load(image_path)\n",
    "    points = np.column_stack(np.where(weight == 1))\n",
    "    listX, listY = [],[]\n",
    "    mPixelX, mPixelY = weight.shape\n",
    "    NofP = len(points)\n",
    "    for i in range(NofP):\n",
    "        listX.append(points[i][0])\n",
    "        listY.append(points[i][1])\n",
    "    listX, listY = np.array(listX), np.array(listY)\n",
    "    mRes = cp.zeros(shape=(NofP,3),dtype=cp.float64)\n",
    "    mAVG = bRMS * distance**3 *np.sqrt(bPixelX*bPixelY/mPixelX/mPixelY)\n",
    "\n",
    "    return None\n",
    "\n",
    "def spinRegionSave(filename=None):\n",
    "    if filename == None:\n",
    "        filename = 'weight.npy'\n",
    "    mMat = cp.zeros(shape=(mPixelX,mPixelY),dtype=cp.float64)\n",
    "    for i in range(NofP):\n",
    "        mMat[listX[i],listY[i]] = 1\n",
    "    cp.save(filename,mMat)\n",
    "    \n",
    "    return None"
   ]
  },
  {
   "cell_type": "code",
   "execution_count": 10,
   "metadata": {},
   "outputs": [
    {
     "ename": "AttributeError",
     "evalue": "'NoneType' object has no attribute 'shape'",
     "output_type": "error",
     "traceback": [
      "\u001b[1;31m---------------------------------------------------------------------------\u001b[0m",
      "\u001b[1;31mAttributeError\u001b[0m                            Traceback (most recent call last)",
      "Cell \u001b[1;32mIn[10], line 1\u001b[0m\n\u001b[1;32m----> 1\u001b[0m \u001b[43mspinAllocate\u001b[49m\u001b[43m(\u001b[49m\u001b[38;5;241;43m0.32\u001b[39;49m\u001b[43m)\u001b[49m\n",
      "Cell \u001b[1;32mIn[9], line 11\u001b[0m, in \u001b[0;36mspinAllocate\u001b[1;34m(magFactor)\u001b[0m\n\u001b[0;32m      9\u001b[0m root\u001b[38;5;241m.\u001b[39mwithdraw()\n\u001b[0;32m     10\u001b[0m img_ \u001b[38;5;241m=\u001b[39m cv2\u001b[38;5;241m.\u001b[39mimread(image_path)  \u001b[38;5;66;03m# The image should be larger than img_w * img_h\u001b[39;00m\n\u001b[1;32m---> 11\u001b[0m mPixelY, mPixelX \u001b[38;5;241m=\u001b[39m \u001b[43mimg_\u001b[49m\u001b[38;5;241;43m.\u001b[39;49m\u001b[43mshape\u001b[49m[\u001b[38;5;241m0\u001b[39m:\u001b[38;5;241m2\u001b[39m] \u001b[38;5;66;03m# Original image height and width\u001b[39;00m\n\u001b[0;32m     12\u001b[0m cv2\u001b[38;5;241m.\u001b[39mdestroyAllWindows()\n\u001b[0;32m     14\u001b[0m \u001b[38;5;28;01mdef\u001b[39;00m \u001b[38;5;21mmain\u001b[39m():\n",
      "\u001b[1;31mAttributeError\u001b[0m: 'NoneType' object has no attribute 'shape'"
     ]
    }
   ],
   "source": [
    "spinAllocate(0.32)"
   ]
  },
  {
   "cell_type": "code",
   "execution_count": 11,
   "metadata": {},
   "outputs": [],
   "source": [
    "spinRegionLoad()"
   ]
  },
  {
   "cell_type": "markdown",
   "metadata": {},
   "source": [
    "## Generating Coefficient Matrix"
   ]
  },
  {
   "cell_type": "code",
   "execution_count": 12,
   "metadata": {},
   "outputs": [],
   "source": [
    "matrixA = cp.zeros(shape=(bCropX,bCropY,NofP,3,3),dtype=cp.float64)\n",
    "\n",
    "@jit(nopython=True, parallel=True)\n",
    "def matrixAGenerate_(bCropX,bCropY,NofP,width,height,bPixelX,bPixelY,mPixelX,mPixelY,bStartX,bStartY,xShift,yShift,distance,listX,listY):\n",
    "    \n",
    "    rPosition = np.zeros((bCropX,bCropY,NofP,3),dtype = np.float64)\n",
    "    for i in prange(bCropX):\n",
    "        for j in prange(bCropY):\n",
    "            for k in prange(NofP):\n",
    "                bX = (bStartX+i+0.5) * width / bPixelX\n",
    "                bY = (bStartY+j+0.5) * height / bPixelY\n",
    "                mX = (listX[k]+0.5) * width / mPixelX - xShift\n",
    "                mY = (listY[k]+0.5) * height / mPixelY - yShift\n",
    "                rPosition[i,j,k,0] = bX - mX\n",
    "                rPosition[i,j,k,1] = bY - mY\n",
    "                rPosition[i,j,k,2] = np.sqrt(rPosition[i,j,k,0]**2 + rPosition[i,j,k,1]**2 + distance**2)\n",
    "    \n",
    "    matrixAnp = np.zeros(shape=(bCropX,bCropY,NofP,3,3),dtype=np.float64)\n",
    "    for i in prange(bCropX):\n",
    "        for j in prange(bCropY):\n",
    "            for k in prange(NofP):\n",
    "                rPos2_5 = rPosition[i, j, k, 2]**5\n",
    "                rPos2_3 = rPosition[i, j, k, 2]**3\n",
    "                rPosX = rPosition[i, j, k, 0]\n",
    "                rPosY = rPosition[i, j, k, 1]\n",
    "\n",
    "                matrixAnp[i, j, k, 0, 0] = 3 * rPosX * rPosX / rPos2_5 - 1 / rPos2_3\n",
    "                matrixAnp[i, j, k, 0, 1] = 3 * rPosX * rPosY / rPos2_5\n",
    "                matrixAnp[i, j, k, 0, 2] = -3 * rPosX * distance / rPos2_5\n",
    "                matrixAnp[i, j, k, 1, 0] = matrixAnp[i, j, k, 0, 1]\n",
    "                matrixAnp[i, j, k, 1, 1] = 3 * rPosY * rPosY / rPos2_5 - 1 / rPos2_3\n",
    "                matrixAnp[i, j, k, 1, 2] = -3 * rPosY * distance / rPos2_5\n",
    "                matrixAnp[i, j, k, 2, 0] = matrixAnp[i, j, k, 0, 2]\n",
    "                matrixAnp[i, j, k, 2, 1] = matrixAnp[i, j, k, 1, 2]\n",
    "                matrixAnp[i, j, k, 2, 2] = 3 * distance * distance / rPos2_5 - 1 / rPos2_3\n",
    "\n",
    "    #matrixA = cp.asarray(matrixAnp)\n",
    "    #del rPosition\n",
    "\n",
    "    return matrixAnp\n",
    "\n",
    "def matrixAGenerate(ifTimer=True):\n",
    "    global matrixA\n",
    "    \n",
    "    timeStart = time()\n",
    "\n",
    "    matrixAnp = matrixAGenerate_(bCropX=bCropX,\n",
    "                                 bCropY=bCropY,\n",
    "                                 NofP=NofP,\n",
    "                                 width=width,\n",
    "                                 height=height,\n",
    "                                 bPixelX=bPixelX,\n",
    "                                 bPixelY=bPixelY,\n",
    "                                 mPixelX=mPixelX,\n",
    "                                 mPixelY=mPixelY,\n",
    "                                 bStartX=bStartX,\n",
    "                                 bStartY=bStartY,\n",
    "                                 xShift=xShift,\n",
    "                                 yShift=yShift,\n",
    "                                 distance=distance,\n",
    "                                 listX=listX,\n",
    "                                 listY=listY)\n",
    "    matrixA = cp.asarray(matrixAnp)\n",
    "    del matrixAnp\n",
    "\n",
    "    timeStop = time()\n",
    "\n",
    "    if ifTimer:\n",
    "        print('generate coefficient time:\\t%s'%(timeStop-timeStart))\n",
    "\n",
    "    return None"
   ]
  },
  {
   "cell_type": "code",
   "execution_count": 13,
   "metadata": {},
   "outputs": [
    {
     "ename": "",
     "evalue": "",
     "output_type": "error",
     "traceback": [
      "\u001b[1;31mThe Kernel crashed while executing code in the current cell or a previous cell. \n",
      "\u001b[1;31mPlease review the code in the cell(s) to identify a possible cause of the failure. \n",
      "\u001b[1;31mClick <a href='https://aka.ms/vscodeJupyterKernelCrash'>here</a> for more info. \n",
      "\u001b[1;31mView Jupyter <a href='command:jupyter.viewOutput'>log</a> for further details."
     ]
    }
   ],
   "source": [
    "matrixAGenerate()"
   ]
  },
  {
   "cell_type": "markdown",
   "metadata": {},
   "source": [
    "## Loss Function"
   ]
  },
  {
   "cell_type": "code",
   "execution_count": 12,
   "metadata": {},
   "outputs": [],
   "source": [
    "def lossF(mMap,alpha=0,beta=0):\n",
    "    \n",
    "    bRes = cp.tensordot(matrixA,mMap,axes=([2,4],[0,1]))\n",
    "    errTerm = cp.sum((bRes - bCropped) ** 2)\n",
    "    del bRes\n",
    "\n",
    "    if alpha != 0:\n",
    "        mRes_ = cp.zeros(shape=(mPixelX,mPixelY,3),dtype=cp.float64)\n",
    "        mResXp = cp.zeros(shape=(mPixelX,mPixelY,3),dtype=np.float64)\n",
    "        mResXm = cp.zeros(shape=(mPixelX,mPixelY,3),dtype=cp.float64)\n",
    "        mResYp = cp.zeros(shape=(mPixelX,mPixelY,3),dtype=cp.float64)\n",
    "        mResYm = cp.zeros(shape=(mPixelX,mPixelY,3),dtype=cp.float64)\n",
    "        for i in range(NofP):\n",
    "            mRes_[listX[i],listY[i],:] = mMap[i,:]\n",
    "            mResXp[(listX[i]+1)%mPixelX,listY[i],:] = mMap[i,:]\n",
    "            mResXm[(listX[i]-1)%mPixelX,listY[i],:] = mMap[i,:]\n",
    "            mResYp[listX[i],(listY[i]+1)%mPixelY,:] = mMap[i,:]\n",
    "            mResYm[listX[i],(listY[i]-1)%mPixelY,:] = mMap[i,:]\n",
    "        gradTermXp = cp.sum((mRes_ - mResXp) ** 2)\n",
    "        gradTermXm = cp.sum((mRes_ - mResXm) ** 2)\n",
    "        gradTermYp = cp.sum((mRes_ - mResYp) ** 2)\n",
    "        gradTermYm = cp.sum((mRes_ - mResYm) ** 2)\n",
    "        gradTerm = (gradTermXp+gradTermXm+gradTermYp+gradTermYm)/4\n",
    "    else:\n",
    "        gradTerm = 0\n",
    "\n",
    "    if beta != 0:\n",
    "        ampTerm = cp.sum(mMap**2)\n",
    "    else:\n",
    "        ampTerm = 0\n",
    "\n",
    "    return errTerm / bRMS**2 / bCropX / bCropY / 3 + (beta * ampTerm + alpha * gradTerm) / mAVG**2 / NofP"
   ]
  },
  {
   "cell_type": "markdown",
   "metadata": {},
   "source": [
    "## Optimization Function Pool"
   ]
  },
  {
   "cell_type": "code",
   "execution_count": 13,
   "metadata": {},
   "outputs": [],
   "source": [
    "def noise(mMap, strg=0.01):\n",
    "    return mMap + strg * mAVG * cp.random.uniform(-1,1,size=mMap.shape)\n",
    "\n",
    "def stretch(mMap, diff=0):\n",
    "    return cp.float64(1+diff) * mMap"
   ]
  },
  {
   "cell_type": "code",
   "execution_count": 14,
   "metadata": {},
   "outputs": [],
   "source": [
    "def step(mMap, rate=0, alpha=0, beta=0, dist=0.02):\n",
    "    dirc_ = cp.random.choice([-1,-1,-1,-1,1,1,1,1,1],size=mMap.shape)\n",
    "    decay_ = dist * mAVG\n",
    "    delta_ = decay_ * dirc_\n",
    "\n",
    "    vp = lossF(mMap + delta_, alpha, beta)\n",
    "    vm = lossF(mMap - delta_, alpha, beta)\n",
    "    v_ = lossF(mMap, alpha, beta)\n",
    "    F_ = (vp - vm) / 2 / dist\n",
    "    F__ = (vp + vm - 2*v_) / dist**2\n",
    "\n",
    "    return mMap - (1+rate) * F_/F__ * mAVG * dirc_"
   ]
  },
  {
   "cell_type": "markdown",
   "metadata": {},
   "source": [
    "## Result Plotting"
   ]
  },
  {
   "cell_type": "code",
   "execution_count": 15,
   "metadata": {},
   "outputs": [],
   "source": [
    "def showM(filename=None):\n",
    "    \n",
    "    mMat = cp.zeros(shape=(mPixelX,mPixelY,3),dtype=cp.float64)\n",
    "    for i in range(NofP):\n",
    "        mMat[listX[i],listY[i],:] = mRes[i,:]\n",
    "\n",
    "    plt.cla()\n",
    "\n",
    "    fig, axs = plt.subplots(1, 3, figsize=(15, 5))\n",
    "    \n",
    "    mRMSFull = np.sqrt(cp.sum(mRes**2)/NofP/3)\n",
    "    HB = min(2*mRMSFull, cp.max(mRes))\n",
    "    LB = max(-2*mRMSFull,cp.min(mRes))\n",
    "    if (HB>0 and LB<0):\n",
    "        VM = max(HB,-LB)\n",
    "        HB = VM\n",
    "        LB = -VM\n",
    "    imx = axs[0].imshow(cp.asnumpy(cp.transpose(mMat[:,::-1,0])), cmap='bwr',vmin=LB,vmax=HB)\n",
    "    axs[0].set_title('Mx')\n",
    "    imy = axs[1].imshow(cp.asnumpy(cp.transpose(mMat[:,::-1,1])), cmap='bwr',vmin=LB,vmax=HB)\n",
    "    axs[1].set_title('My')\n",
    "    imz = axs[2].imshow(cp.asnumpy(cp.transpose(mMat[:,::-1,2])), cmap='bwr',vmin=LB,vmax=HB)\n",
    "    axs[2].set_title('Mz')\n",
    "\n",
    "    def makeXTicks(N):\n",
    "        Pw = int(np.log10(N))\n",
    "        firstOne = int(str(N)[0])\n",
    "        firstTwo = int(str(N)[:2])\n",
    "        if firstOne >= 5:\n",
    "            ticks = [i*10**Pw for i in range(firstOne+1)]\n",
    "        elif firstTwo <= 20:\n",
    "            ticks = [i*10**(Pw-1) for i in range(0,firstTwo+1,2)]\n",
    "        else:\n",
    "            ticks = [i*10**(Pw-1) for i in range(0,firstTwo+1,5)]\n",
    "        return ticks, [str(i) for i in ticks]\n",
    "    \n",
    "    def makeYTicks(N):\n",
    "        Pw = int(np.log10(N))\n",
    "        firstOne = int(str(N)[0])\n",
    "        firstTwo = int(str(N)[:2])\n",
    "        if firstOne >= 5:\n",
    "            ticks = [i*10**Pw for i in range(firstOne+1)]\n",
    "        elif firstTwo <= 20:\n",
    "            ticks = [i*10**(Pw-1) for i in range(0,firstTwo+1,2)]\n",
    "        else:\n",
    "            ticks = [i*10**(Pw-1) for i in range(0,firstTwo+1,5)]\n",
    "        return [N-1-i for i in ticks], [str(i) for i in ticks]\n",
    "    \n",
    "    xTicks, xTickLabels = makeXTicks(mPixelX)\n",
    "    yTicks, yTickLabels = makeYTicks(mPixelY)\n",
    "\n",
    "    for i in range(3):\n",
    "        axs[i].set_xticks(xTicks)\n",
    "        axs[i].set_yticks(yTicks)\n",
    "        axs[i].set_xticklabels(xTickLabels)\n",
    "        axs[i].set_yticklabels(yTickLabels)\n",
    "        axs[i].set_xlabel('X')\n",
    "        axs[i].set_ylabel('Y')\n",
    "\n",
    "    if filename:\n",
    "        plt.savefig(filename, format='png')\n",
    "\n",
    "    plt.show()\n",
    "\n",
    "    return None\n",
    "\n",
    "def showB(filename=None):\n",
    "    \n",
    "    bRes = cp.tensordot(matrixA,mRes,axes=([2,4],[0,1]))\n",
    "\n",
    "    plt.cla()\n",
    "\n",
    "    fig, axs = plt.subplots(2, 3, figsize=(15, 8))\n",
    "    \n",
    "    bRMSCropped = np.sqrt(cp.sum(bCropped**2)/bCropX/bCropY/3)\n",
    "    HB = min(2*bRMSCropped, cp.max(bCropped))\n",
    "    LB = max(-2*bRMSCropped,cp.min(bCropped))\n",
    "    if (HB>0 and LB<0):\n",
    "        VM = max(HB,-LB)\n",
    "        HB = VM\n",
    "        LB = -VM\n",
    "    imxr = axs[0][0].imshow(cp.asnumpy(cp.transpose(bRes[:,::-1,0])), cmap='bwr',vmin=LB,vmax=HB)\n",
    "    axs[0][0].set_title('Bx Reconstructed')\n",
    "    imyr = axs[0][1].imshow(cp.asnumpy(cp.transpose(bRes[:,::-1,1])), cmap='bwr',vmin=LB,vmax=HB)\n",
    "    axs[0][1].set_title('By Reconstructed')\n",
    "    imzr = axs[0][2].imshow(cp.asnumpy(cp.transpose(bRes[:,::-1,2])), cmap='bwr',vmin=LB,vmax=HB)\n",
    "    axs[0][2].set_title('Bz Reconstructed')\n",
    "\n",
    "    imx = axs[1][0].imshow(cp.asnumpy(cp.transpose(bCropped[:,::-1,0])), cmap='bwr',vmin=LB,vmax=HB)\n",
    "    axs[1][0].set_title('Bx Experiment')\n",
    "    imy = axs[1][1].imshow(cp.asnumpy(cp.transpose(bCropped[:,::-1,1])), cmap='bwr',vmin=LB,vmax=HB)\n",
    "    axs[1][1].set_title('By Experiment')\n",
    "    imz = axs[1][2].imshow(cp.asnumpy(cp.transpose(bCropped[:,::-1,2])), cmap='bwr',vmin=LB,vmax=HB)\n",
    "    axs[1][2].set_title('Bz Experiment')\n",
    "\n",
    "    def makeXTicks(N):\n",
    "        Pw = int(np.log10(N))\n",
    "        firstOne = int(str(N)[0])\n",
    "        firstTwo = int(str(N)[:2])\n",
    "        if firstOne >= 5:\n",
    "            ticks = [i*10**Pw for i in range(firstOne+1)]\n",
    "        elif firstTwo <= 20:\n",
    "            ticks = [i*10**(Pw-1) for i in range(0,firstTwo+1,2)]\n",
    "        else:\n",
    "            ticks = [i*10**(Pw-1) for i in range(0,firstTwo+1,5)]\n",
    "        return ticks, [str(i) for i in ticks]\n",
    "    \n",
    "    def makeYTicks(N):\n",
    "        Pw = int(np.log10(N))\n",
    "        firstOne = int(str(N)[0])\n",
    "        firstTwo = int(str(N)[:2])\n",
    "        if firstOne >= 5:\n",
    "            ticks = [i*10**Pw for i in range(firstOne+1)]\n",
    "        elif firstTwo <= 20:\n",
    "            ticks = [i*10**(Pw-1) for i in range(0,firstTwo+1,2)]\n",
    "        else:\n",
    "            ticks = [i*10**(Pw-1) for i in range(0,firstTwo+1,5)]\n",
    "        return [N-1-i for i in ticks], [str(i) for i in ticks]\n",
    "        \n",
    "    xTicks, xTickLabels = makeXTicks(bCropX)\n",
    "    yTicks, yTickLabels = makeYTicks(bCropY)\n",
    "\n",
    "    for i in range(6):\n",
    "        axs[i//3][i%3].set_xticks(xTicks)\n",
    "        axs[i//3][i%3].set_yticks(yTicks)\n",
    "        axs[i//3][i%3].set_xticklabels(xTickLabels)\n",
    "        axs[i//3][i%3].set_yticklabels(yTickLabels)\n",
    "        axs[i//3][i%3].set_xlabel('X')\n",
    "        axs[i//3][i%3].set_ylabel('Y')\n",
    "\n",
    "    if filename:\n",
    "        plt.savefig(filename, format='png')\n",
    "\n",
    "    plt.show()\n",
    "\n",
    "    return None"
   ]
  },
  {
   "cell_type": "code",
   "execution_count": 16,
   "metadata": {},
   "outputs": [],
   "source": [
    "def corrP(m,mT,p):\n",
    "    C=0\n",
    "    for i in range(NofP):\n",
    "        if np.sum(((m-mT)[listX[i],listY[i],:])**2) <= 3*p*p*np.sum((mT[listX[i],listY[i],:])**2):\n",
    "            C+=1\n",
    "    return C/NofP"
   ]
  },
  {
   "cell_type": "markdown",
   "metadata": {},
   "source": [
    "## Parameter Optimization"
   ]
  },
  {
   "cell_type": "code",
   "execution_count": 17,
   "metadata": {},
   "outputs": [],
   "source": [
    "def optPar(d=None, x=None, y=None, iterList=[(0,0,4000)], optRound=20, ifTimer=True, ifShow=True):\n",
    "    global distance, xShift, yShift, matrixA, mAVG, mRes\n",
    "\n",
    "    d_ = d if d else distance\n",
    "    xShift_ = x if x else xShift\n",
    "    yShift_ = y if y else yShift\n",
    "    mT=np.load('20240712/mTarget.npy')\n",
    "\n",
    "    for i in range(optRound):\n",
    "        timeStart = time()\n",
    "        delta_ = np.float64(0.01)*np.random.choice([-1,-1,-1,-1,1,1,1,1,1],size=3,)\n",
    "        if d==None:\n",
    "            delta_[0]=0\n",
    "        if x==None:\n",
    "            delta_[1]=0\n",
    "        if y==None:\n",
    "            delta_[2]=0\n",
    "        \n",
    "        pl = (delta_+1)\n",
    "        distance, xShift, yShift = d_*pl[0], xShift_*pl[1], yShift_*pl[2]\n",
    "        matrixAGenerate(False)\n",
    "        mRes = cp.zeros(shape=(NofP,3),dtype=cp.float64)\n",
    "        mAVG = bRMS * distance**3 *np.sqrt(bPixelX*bPixelY/mPixelX/mPixelY)\n",
    "        for alpha,beta,iterRound in iterList:\n",
    "            for j in range(iterRound):\n",
    "                mRes = step(mRes,alpha=alpha, beta=beta)\n",
    "        vp = lossF(mRes)\n",
    "\n",
    "        distance, xShift, yShift = d_, xShift_, yShift_\n",
    "        matrixAGenerate(False)\n",
    "        mRes = cp.zeros(shape=(NofP,3),dtype=cp.float64)\n",
    "        mAVG = bRMS * distance**3 *np.sqrt(bPixelX*bPixelY/mPixelX/mPixelY)\n",
    "        for alpha,beta,iterRound in iterList:\n",
    "            for j in range(iterRound):\n",
    "                mRes = step(mRes,alpha=alpha, beta=beta)\n",
    "        v_ = lossF(mRes)\n",
    "        if ifShow:\n",
    "            print('round=%s,distance=%s,xShift=%s,yShift=%s,loss=%s'%(i+20,distance,xShift,yShift,v_))\n",
    "            mMat = np.zeros(shape=(mPixelX,mPixelY,3),dtype=cp.float64)\n",
    "            for i_ in range(NofP):\n",
    "                mMat[listX[i_],listY[i_],:] = cp.asnumpy(mRes[i_,:])\n",
    "            print(np.sum((mT-mMat)**2)/np.sum(mT**2),np.sum(np.abs(mT-mMat))/np.sum(np.abs(mT)),corrP(mMat,mT,0.3),corrP(mMat,mT,0.5))\n",
    "            cp.save('20240712/%s.npy'%(str(i+20).zfill(2)),mMat)\n",
    "\n",
    "        pl = (1-delta_)\n",
    "        distance, xShift, yShift = d_*pl[0], xShift_*pl[1], yShift_*pl[2]\n",
    "        matrixAGenerate(False)\n",
    "        mRes = cp.zeros(shape=(NofP,3),dtype=cp.float64)\n",
    "        mAVG = bRMS * distance**3 *np.sqrt(bPixelX*bPixelY/mPixelX/mPixelY)\n",
    "        for alpha,beta,iterRound in iterList:\n",
    "            for j in range(iterRound):\n",
    "                mRes = step(mRes,alpha=alpha, beta=beta)\n",
    "        vm = lossF(mRes)  \n",
    "        \n",
    "        F_ = (vp - vm) / 2 / 0.01\n",
    "        F__ = (vp + vm - 2*v_) / 0.01**2\n",
    "\n",
    "        if (F_<0 and F__>0) or (F_>0 and F__>0):\n",
    "            pl = 1 - np.float64(F_/F__ / 0.01) * delta_\n",
    "        elif (F_>0 and F__<0) or (F_<0 and F__<0):\n",
    "            pl = 1 + 1.618 * np.float64(1.5* F_/F__ / 0.01) * delta_\n",
    "        d_, xShift_, yShift_ = d_*pl[0], xShift_*pl[1], yShift_*pl[2]\n",
    "        print(F_,F__,d_)\n",
    "\n",
    "        timeStop = time()\n",
    "        if ifTimer:\n",
    "            print('round %s time:\\t%s'%(i+20, timeStop-timeStart))\n",
    "    \n",
    "    distance, xShift, yShift =  d_, xShift_, yShift_\n",
    "    matrixAGenerate(False)\n",
    "    mRes = cp.zeros(shape=(NofP,3),dtype=cp.float64)\n",
    "    mAVG = bRMS * distance**3 *np.sqrt(bPixelX*bPixelY/mPixelX/mPixelY)\n",
    "    for alpha,beta,iterRound in iterList:\n",
    "        for j in range(iterRound):\n",
    "            mRes = step(mRes,alpha=alpha, beta=beta)\n",
    "    v_ = lossF(mRes)\n",
    "    if ifShow:\n",
    "        print('round=%s,distance=%s,xShift=%s,yShift=%s,loss=%s'%('final',distance,xShift,yShift,v_))\n",
    "        mMat = np.zeros(shape=(mPixelX,mPixelY,3),dtype=cp.float64)\n",
    "        for i_ in range(NofP):\n",
    "            mMat[listX[i_],listY[i_],:] = cp.asnumpy(mRes[i_,:])\n",
    "        print(np.sum((mT-mMat)**2)/np.sum(mT**2),np.sum(np.abs(mT-mMat))/np.sum(np.abs(mT)),corrP(mMat,mT,0.3),corrP(mMat,mT,0.5))\n",
    "        cp.save('20240712/%s.npy'%(optRound+20),mMat)\n",
    "\n",
    "    return d_, xShift_, yShift_, v_\n"
   ]
  },
  {
   "cell_type": "code",
   "execution_count": 18,
   "metadata": {},
   "outputs": [
    {
     "ename": "",
     "evalue": "",
     "output_type": "error",
     "traceback": [
      "\u001b[1;31mThe Kernel crashed while executing code in the current cell or a previous cell. \n",
      "\u001b[1;31mPlease review the code in the cell(s) to identify a possible cause of the failure. \n",
      "\u001b[1;31mClick <a href='https://aka.ms/vscodeJupyterKernelCrash'>here</a> for more info. \n",
      "\u001b[1;31mView Jupyter <a href='command:jupyter.viewOutput'>log</a> for further details."
     ]
    }
   ],
   "source": [
    "optPar(d=14.810445932404178,iterList=[(7,9,4000),(0,0,3000),(5,7,4000)])"
   ]
  },
  {
   "cell_type": "code",
   "execution_count": 23,
   "metadata": {},
   "outputs": [],
   "source": [
    "#mRes=cp.concatenate((cp.ones(shape=(NofP,1),dtype=cp.float64),cp.ones(shape=(NofP,1),dtype=cp.float64),cp.ones(shape=(NofP,1),dtype=cp.float64)*0.2),axis=1)\n",
    "mRes=cp.zeros(shape=(NofP,3),dtype=cp.float64)"
   ]
  },
  {
   "cell_type": "code",
   "execution_count": null,
   "metadata": {},
   "outputs": [],
   "source": [
    "#bCropped=cp.tensordot(matrixA,mRes,axes=([2,4],[0,1]))\n",
    "#bRMS = np.sqrt(cp.sum(bCropped**2)/bCropX/bCropY/3)\n",
    "#mAVG = bRMS * distance**3 *np.sqrt(bPixelX*bPixelY/mPixelX/mPixelY)"
   ]
  },
  {
   "cell_type": "code",
   "execution_count": 100,
   "metadata": {},
   "outputs": [
    {
     "data": {
      "text/plain": [
       "array(1.)"
      ]
     },
     "execution_count": 100,
     "metadata": {},
     "output_type": "execute_result"
    }
   ],
   "source": [
    "lossF(mRes)"
   ]
  },
  {
   "cell_type": "code",
   "execution_count": 25,
   "metadata": {},
   "outputs": [
    {
     "name": "stdout",
     "output_type": "stream",
     "text": [
      "0.10228012629049395\n"
     ]
    }
   ],
   "source": [
    "for i in range(5000):\n",
    "    mRes = step(mRes,alpha=7,beta=9)\n",
    "print(lossF(mRes))"
   ]
  },
  {
   "cell_type": "code",
   "execution_count": 37,
   "metadata": {},
   "outputs": [
    {
     "name": "stdout",
     "output_type": "stream",
     "text": [
      "0.0905364684284352\n"
     ]
    }
   ],
   "source": [
    "for i in range(20000):\n",
    "    mRes = step(mRes,alpha=15,beta=15)\n",
    "print(lossF(mRes))"
   ]
  },
  {
   "cell_type": "code",
   "execution_count": 15,
   "metadata": {},
   "outputs": [],
   "source": [
    "bPixelX, bPixelY = 392, 245\n",
    "bExp = cp.zeros(shape=(bPixelX,bPixelY,3),dtype=cp.float64)\n",
    "bCropped = cp.copy(bExp)\n",
    "bStartX=0\n",
    "bStartY=0\n",
    "bEndX=bPixelX\n",
    "bEndY=bPixelY\n",
    "bCropX=bPixelX\n",
    "bCropY=bPixelY\n",
    "bRMS=1"
   ]
  },
  {
   "cell_type": "code",
   "execution_count": 15,
   "metadata": {},
   "outputs": [
    {
     "data": {
      "image/png": "[encoded data removed]",
      "text/plain": [
       "<Figure size 640x480 with 1 Axes>"
      ]
     },
     "metadata": {},
     "output_type": "display_data"
    },
    {
     "data": {
      "image/png": "[encoded data removed]",
      "text/plain": [
       "<Figure size 1500x500 with 3 Axes>"
      ]
     },
     "metadata": {},
     "output_type": "display_data"
    }
   ],
   "source": [
    "for i in range(NofP):\n",
    "    mRes[i,:] = cp.asarray([0.,\n",
    "\t\t\t0.,\n",
    "\t\t\t300*((listX[i]-mPixelX/2-3)**2+(listY[i]-mPixelY/2+5)**2-20)/mPixelX/mPixelY])\n",
    "mMat = cp.zeros(shape=(mPixelX,mPixelY,3),dtype=cp.float64)\n",
    "for i in range(NofP):\n",
    "\tmMat[listX[i],listY[i],:] = mRes[i,:]\n",
    "cp.save('20240712/mTarget.npy',mMat)\n",
    "showM('20240712/mTarget.png')"
   ]
  },
  {
   "cell_type": "code",
   "execution_count": 56,
   "metadata": {},
   "outputs": [],
   "source": [
    "bExp = cp.tensordot(matrixA,mRes,axes=([2,4],[0,1]))\n",
    "bCropped = cp.copy(bExp)\n",
    "bRMS = np.sqrt(cp.sum(bCropped**2)/bCropX/bCropY/3)\n",
    "mAVG = bRMS * distance**3 *np.sqrt(bPixelX*bPixelY/mPixelX/mPixelY)"
   ]
  },
  {
   "cell_type": "code",
   "execution_count": null,
   "metadata": {},
   "outputs": [],
   "source": [
    "for distance in (48.,36.,24.,18.,12.,9.,6.,4.):\n",
    "    matrixAGenerate(False)\n",
    "    for i in range(NofP):\n",
    "        mRes[i,:] = cp.asarray([0.,\n",
    "\t\t\t0.,\n",
    "\t\t\t120*((listX[i]-mPixelX/2-3)**2+(listY[i]-mPixelY/2+5)**2-20)/mPixelX/mPixelY])\n",
    "    bExp = cp.tensordot(matrixA,mRes,axes=([2,4],[0,1]))\n",
    "    bCropped = cp.copy(bExp)\n",
    "    bRMS = np.sqrt(cp.sum(bCropped**2)/bCropX/bCropY/3)\n",
    "    mAVG = bRMS * distance**3 *np.sqrt(bPixelX*bPixelY/mPixelX/mPixelY)\n",
    "    mRes = cp.zeros(shape=(NofP,3),dtype=cp.float64)\n",
    "    cp.save('2024071t/bX%s.npy'%(str(int(distance)).zfill(2)),bExp[:,:,0])\n",
    "    cp.save('2024071t/bY%s.npy'%(str(int(distance)).zfill(2)),bExp[:,:,1])\n",
    "    cp.save('2024071t/bZ%s.npy'%(str(int(distance)).zfill(2)),bExp[:,:,2])\n",
    "    for i in range(5000):\n",
    "        mRes = step(mRes,alpha=4,beta=3)\n",
    "    for i in range(5000):\n",
    "        mRes = step(mRes,alpha=0,beta=0)\n",
    "    for i in range(5000):\n",
    "        mRes = step(mRes,alpha=2,beta=2)\n",
    "    for i in range(5000):\n",
    "        mRes = step(mRes,alpha=0,beta=0)\n",
    "    print(lossF(mRes))\n",
    "    showM('2024071t/m%s.png'%(str(int(distance)).zfill(2)))\n",
    "    showB('2024071t/B%s.png'%(str(int(distance)).zfill(2)))\n",
    "    mMat = cp.zeros(shape=(mPixelX,mPixelY,3),dtype=cp.float64)\n",
    "    for i in range(NofP):\n",
    "        mMat[listX[i],listY[i],:] = mRes[i,:]\n",
    "    cp.save('2024071t/mRes%s.npy'%(str(int(distance)).zfill(2)),mMat)"
   ]
  },
  {
   "cell_type": "code",
   "execution_count": 26,
   "metadata": {},
   "outputs": [],
   "source": [
    "mT=np.load('20240712/mTarget.npy')\n",
    "m04=np.load('20240711/mRes04.npy')\n",
    "m06=np.load('20240711/mRes06.npy')\n",
    "m09=np.load('20240711/mRes09.npy')\n",
    "m12=np.load('20240711/mRes12.npy')\n",
    "m18=np.load('20240711/mRes18.npy')\n",
    "m24=np.load('20240711/mRes24.npy')\n",
    "m36=np.load('20240711/mRes36.npy')\n",
    "m48=np.load('20240711/mRes48.npy')"
   ]
  },
  {
   "cell_type": "code",
   "execution_count": 27,
   "metadata": {},
   "outputs": [
    {
     "name": "stdout",
     "output_type": "stream",
     "text": [
      "0.9680254054360969 1.6237092566722726 0.08708708708708708 0.30930930930930933\n",
      "0.5745340511885223 1.1124647325194836 0.0990990990990991 0.5585585585585585\n",
      "0.5212401161824498 0.9163609813347888 0.12612612612612611 0.6876876876876877\n",
      "0.5147489722673211 0.8820196566031453 0.12612612612612611 0.6876876876876877\n",
      "0.5917884385507992 0.9653365907001938 0.0960960960960961 0.6906906906906907\n",
      "0.6577393890812475 1.0707956073480938 0.10810810810810811 0.5585585585585585\n",
      "1.010092128891299 1.5735387025955543 0.03903903903903904 0.3063063063063063\n",
      "2.3580204971921153 2.624701686839724 0.04804804804804805 0.14414414414414414\n"
     ]
    }
   ],
   "source": [
    "for i in [m04,m06,m09,m12,m18,m24,m36,m48]:\n",
    "    print(np.sum((mT-i)**2)/np.sum(mT**2),np.sum(np.abs(mT-i))/np.sum(np.abs(mT)),corrP(i,mT,0.3),corrP(i,mT,0.5))"
   ]
  },
  {
   "cell_type": "code",
   "execution_count": 17,
   "metadata": {},
   "outputs": [],
   "source": [
    "spinAllocate(0.32)"
   ]
  },
  {
   "cell_type": "code",
   "execution_count": 18,
   "metadata": {},
   "outputs": [],
   "source": [
    "spinRegionSave('20240710/weight.npy')"
   ]
  },
  {
   "cell_type": "code",
   "execution_count": 20,
   "metadata": {},
   "outputs": [],
   "source": []
  },
  {
   "cell_type": "code",
   "execution_count": 9,
   "metadata": {},
   "outputs": [
    {
     "ename": "TclError",
     "evalue": "can't invoke \"wm\" command: application has been destroyed",
     "output_type": "error",
     "traceback": [
      "\u001b[1;31m---------------------------------------------------------------------------\u001b[0m",
      "\u001b[1;31mTclError\u001b[0m                                  Traceback (most recent call last)",
      "Cell \u001b[1;32mIn[9], line 1\u001b[0m\n\u001b[1;32m----> 1\u001b[0m \u001b[43mspinRegionLoad\u001b[49m\u001b[43m(\u001b[49m\u001b[43m)\u001b[49m\n",
      "Cell \u001b[1;32mIn[8], line 87\u001b[0m, in \u001b[0;36mspinRegionLoad\u001b[1;34m()\u001b[0m\n\u001b[0;32m     85\u001b[0m root \u001b[38;5;241m=\u001b[39m tk\u001b[38;5;241m.\u001b[39mTk()\n\u001b[0;32m     86\u001b[0m image_path \u001b[38;5;241m=\u001b[39m filedialog\u001b[38;5;241m.\u001b[39maskopenfilename(title\u001b[38;5;241m=\u001b[39m\u001b[38;5;124m\"\u001b[39m\u001b[38;5;124mSelect weight matrix\u001b[39m\u001b[38;5;124m\"\u001b[39m)\n\u001b[1;32m---> 87\u001b[0m \u001b[43mroot\u001b[49m\u001b[38;5;241;43m.\u001b[39;49m\u001b[43mwithdraw\u001b[49m\u001b[43m(\u001b[49m\u001b[43m)\u001b[49m\n\u001b[0;32m     89\u001b[0m weight \u001b[38;5;241m=\u001b[39m np\u001b[38;5;241m.\u001b[39mload(image_path)\n\u001b[0;32m     90\u001b[0m points \u001b[38;5;241m=\u001b[39m np\u001b[38;5;241m.\u001b[39mcolumn_stack(np\u001b[38;5;241m.\u001b[39mwhere(weight \u001b[38;5;241m==\u001b[39m \u001b[38;5;241m1\u001b[39m))\n",
      "File \u001b[1;32mc:\\Users\\37260\\anaconda3\\envs\\magnet\\lib\\tkinter\\__init__.py:2240\u001b[0m, in \u001b[0;36mWm.wm_withdraw\u001b[1;34m(self)\u001b[0m\n\u001b[0;32m   2237\u001b[0m \u001b[38;5;28;01mdef\u001b[39;00m \u001b[38;5;21mwm_withdraw\u001b[39m(\u001b[38;5;28mself\u001b[39m):\n\u001b[0;32m   2238\u001b[0m \u001b[38;5;250m    \u001b[39m\u001b[38;5;124;03m\"\"\"Withdraw this widget from the screen such that it is unmapped\u001b[39;00m\n\u001b[0;32m   2239\u001b[0m \u001b[38;5;124;03m    and forgotten by the window manager. Re-draw it with wm_deiconify.\"\"\"\u001b[39;00m\n\u001b[1;32m-> 2240\u001b[0m     \u001b[38;5;28;01mreturn\u001b[39;00m \u001b[38;5;28;43mself\u001b[39;49m\u001b[38;5;241;43m.\u001b[39;49m\u001b[43mtk\u001b[49m\u001b[38;5;241;43m.\u001b[39;49m\u001b[43mcall\u001b[49m\u001b[43m(\u001b[49m\u001b[38;5;124;43m'\u001b[39;49m\u001b[38;5;124;43mwm\u001b[39;49m\u001b[38;5;124;43m'\u001b[39;49m\u001b[43m,\u001b[49m\u001b[43m \u001b[49m\u001b[38;5;124;43m'\u001b[39;49m\u001b[38;5;124;43mwithdraw\u001b[39;49m\u001b[38;5;124;43m'\u001b[39;49m\u001b[43m,\u001b[49m\u001b[43m \u001b[49m\u001b[38;5;28;43mself\u001b[39;49m\u001b[38;5;241;43m.\u001b[39;49m\u001b[43m_w\u001b[49m\u001b[43m)\u001b[49m\n",
      "\u001b[1;31mTclError\u001b[0m: can't invoke \"wm\" command: application has been destroyed"
     ]
    }
   ],
   "source": [
    "spinRegionLoad()"
   ]
  },
  {
   "cell_type": "code",
   "execution_count": null,
   "metadata": {},
   "outputs": [],
   "source": []
  }
 ],
 "metadata": {
  "kernelspec": {
   "display_name": "magnet",
   "language": "python",
   "name": "python3"
  },
  "language_info": {
   "codemirror_mode": {
    "name": "ipython",
    "version": 3
   },
   "file_extension": ".py",
   "mimetype": "text/x-python",
   "name": "python",
   "nbconvert_exporter": "python",
   "pygments_lexer": "ipython3",
   "version": "3.9.19"
  }
 },
 "nbformat": 4,
 "nbformat_minor": 2
}
